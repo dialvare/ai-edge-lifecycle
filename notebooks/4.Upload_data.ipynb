{
 "cells": [
  {
   "cell_type": "code",
   "execution_count": 6,
   "id": "a9aef5de-1a78-42bb-8691-872c44f7879f",
   "metadata": {},
   "outputs": [],
   "source": [
    "import pandas as pd\n",
    "import boto3\n",
    "import os"
   ]
  },
  {
   "cell_type": "code",
   "execution_count": 18,
   "id": "0c60888c-05d7-448a-8db8-a84869efeab8",
   "metadata": {},
   "outputs": [],
   "source": [
    "# Read the data connection variables\n",
    "key_id = os.getenv(\"AWS_ACCESS_KEY_ID\")\n",
    "secret_key = os.getenv(\"AWS_SECRET_ACCESS_KEY\")\n",
    "endpoint = os.getenv(\"AWS_S3_ENDPOINT\")\n",
    "bucket_name = os.getenv(\"AWS_S3_BUCKET\")"
   ]
  },
  {
   "cell_type": "code",
   "execution_count": 19,
   "id": "dcedc724-3fa8-47e6-b9d9-898f6c612532",
   "metadata": {},
   "outputs": [],
   "source": [
    "# Create connection\n",
    "s3_client = boto3.client(\n",
    "    \"s3\",\n",
    "    aws_access_key_id=key_id,\n",
    "    aws_secret_access_key=secret_key,\n",
    "    endpoint_url=endpoint,\n",
    "    use_ssl=True\n",
    ")"
   ]
  },
  {
   "cell_type": "code",
   "execution_count": 25,
   "id": "576ba104-6779-4ca7-b4a5-3b2bb0e61e42",
   "metadata": {},
   "outputs": [],
   "source": [
    "os.makedirs(\"data\", exist_ok=True)\n",
    "\n",
    "s3_client.download_file(bucket_name, '/data/sensors_data.csv', 'data/sensors_data.csv')\n",
    "s3_client.download_file(bucket_name, '/data/measured_value.csv', 'data/measured_value.csv')"
   ]
  },
  {
   "cell_type": "code",
   "execution_count": 21,
   "id": "ab99b848-030b-4910-bdfc-340ce00264b6",
   "metadata": {},
   "outputs": [],
   "source": [
    "days = 7"
   ]
  },
  {
   "cell_type": "code",
   "execution_count": 22,
   "id": "bdffa30e-77f8-4f84-b869-48bcd9a952e4",
   "metadata": {},
   "outputs": [],
   "source": [
    "sensors_data = pd.read_csv('data/sensors_data.csv')\n",
    "new_sensors_data = sensors_data.drop(index=range(days)).reset_index(drop=True)\n",
    "new_sensors_data.to_csv('upload_data/sensors_data.csv', sep=',', index=False, header=True)"
   ]
  },
  {
   "cell_type": "code",
   "execution_count": 23,
   "id": "e9edc4ff-ac2f-4de7-98bd-33e4b3eb14ec",
   "metadata": {},
   "outputs": [],
   "source": [
    "measured_value = pd.read_csv('data/measured_value.csv')\n",
    "new_measured_value = measured_value.drop(index=range(days)).reset_index(drop=True)\n",
    "new_measured_value.to_csv('upload_data/measured_value.csv', sep=',', index=False, header=True)"
   ]
  },
  {
   "cell_type": "code",
   "execution_count": 24,
   "id": "fd6f8daa-3042-4769-8271-532131569448",
   "metadata": {},
   "outputs": [],
   "source": [
    "# Upload the data\n",
    "s3_client.upload_file('upload_data/historical.csv', bucket_name, Key=\"data/historical.csv\")\n",
    "s3_client.upload_file('upload_data/sensors_data.csv', bucket_name, Key=\"data/sensors_data.csv\")\n",
    "s3_client.upload_file('upload_data/measured_value.csv', bucket_name, Key=\"data/measured_value.csv\")"
   ]
  }
 ],
 "metadata": {
  "kernelspec": {
   "display_name": "Python 3.11",
   "language": "python",
   "name": "python3"
  },
  "language_info": {
   "codemirror_mode": {
    "name": "ipython",
    "version": 3
   },
   "file_extension": ".py",
   "mimetype": "text/x-python",
   "name": "python",
   "nbconvert_exporter": "python",
   "pygments_lexer": "ipython3",
   "version": "3.11.7"
  }
 },
 "nbformat": 4,
 "nbformat_minor": 5
}
